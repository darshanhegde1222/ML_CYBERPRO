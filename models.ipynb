import pandas as pd
import matplotlib.pyplot as plt
from sklearn.preprocessing import LabelEncoder, StandardScaler
from sklearn.model_selection import train_test_split
from sklearn.metrics import accuracy_score, f1_score, classification_report
from sklearn.ensemble import RandomForestClassifier
from sklearn.svm import SVC
from sklearn.neighbors import KNeighborsClassifier
from xgboost import XGBClassifier

# Load and preprocess
df = pd.read_csv('path_to_dataset.csv')
df.dropna(inplace=True)
df['Label'] = LabelEncoder().fit_transform(df['Label'])
X = df.drop('Label', axis=1)
y = df['Label']
X_scaled = StandardScaler().fit_transform(X)
X_train, X_test, y_train, y_test = train_test_split(X_scaled, y, test_size=0.2, random_state=42)

# Model dictionary
models = {
    "Random Forest": RandomForestClassifier(n_estimators=100, random_state=42),
    "SVM": SVC(kernel='rbf', C=1.0, gamma='scale'),
    "KNN": KNeighborsClassifier(n_neighbors=5),
    "XGBoost": XGBClassifier(use_label_encoder=False, eval_metric='mlogloss')
}

# Store results
results = {"Model": [], "Accuracy": [], "F1 Score": []}

# Train, predict, evaluate
for name, model in models.items():
    model.fit(X_train, y_train)
    y_pred = model.predict(X_test)
    acc = accuracy_score(y_test, y_pred)
    f1 = f1_score(y_test, y_pred, average='weighted')
    results["Model"].append(name)
    results["Accuracy"].append(acc)
    results["F1 Score"].append(f1)
    print(f"\n{name} Classification Report:\n", classification_report(y_test, y_pred))

# Create DataFrame
result_df = pd.DataFrame(results)

# Plotting
plt.figure(figsize=(10,5))
plt.bar(result_df["Model"], result_df["Accuracy"], label='Accuracy', alpha=0.6)
plt.bar(result_df["Model"], result_df["F1 Score"], label='F1 Score', alpha=0.6)
plt.title("Model Comparison")
plt.ylabel("Score")
plt.ylim(0, 1)
plt.legend()
plt.grid(True)
plt.show()

