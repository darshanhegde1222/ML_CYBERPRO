{
  "nbformat": 4,
  "nbformat_minor": 0,
  "metadata": {
    "colab": {
      "provenance": []
    },
    "kernelspec": {
      "name": "python3",
      "display_name": "Python 3"
    },
    "language_info": {
      "name": "python"
    }
  },
  "cells": [
    {
      "cell_type": "code",
      "execution_count": 1,
      "metadata": {
        "colab": {
          "base_uri": "https://localhost:8080/"
        },
        "id": "wf_5pcP5MiSG",
        "outputId": "bbfa87da-c2cc-48eb-f5d2-aa57498c369b"
      },
      "outputs": [
        {
          "output_type": "stream",
          "name": "stdout",
          "text": [
            "Requirement already satisfied: pandas in /usr/local/lib/python3.11/dist-packages (2.2.2)\n",
            "Requirement already satisfied: scikit-learn in /usr/local/lib/python3.11/dist-packages (1.6.1)\n",
            "Requirement already satisfied: matplotlib in /usr/local/lib/python3.11/dist-packages (3.10.0)\n",
            "Requirement already satisfied: seaborn in /usr/local/lib/python3.11/dist-packages (0.13.2)\n",
            "Requirement already satisfied: numpy>=1.23.2 in /usr/local/lib/python3.11/dist-packages (from pandas) (2.0.2)\n",
            "Requirement already satisfied: python-dateutil>=2.8.2 in /usr/local/lib/python3.11/dist-packages (from pandas) (2.9.0.post0)\n",
            "Requirement already satisfied: pytz>=2020.1 in /usr/local/lib/python3.11/dist-packages (from pandas) (2025.2)\n",
            "Requirement already satisfied: tzdata>=2022.7 in /usr/local/lib/python3.11/dist-packages (from pandas) (2025.2)\n",
            "Requirement already satisfied: scipy>=1.6.0 in /usr/local/lib/python3.11/dist-packages (from scikit-learn) (1.16.0)\n",
            "Requirement already satisfied: joblib>=1.2.0 in /usr/local/lib/python3.11/dist-packages (from scikit-learn) (1.5.1)\n",
            "Requirement already satisfied: threadpoolctl>=3.1.0 in /usr/local/lib/python3.11/dist-packages (from scikit-learn) (3.6.0)\n",
            "Requirement already satisfied: contourpy>=1.0.1 in /usr/local/lib/python3.11/dist-packages (from matplotlib) (1.3.2)\n",
            "Requirement already satisfied: cycler>=0.10 in /usr/local/lib/python3.11/dist-packages (from matplotlib) (0.12.1)\n",
            "Requirement already satisfied: fonttools>=4.22.0 in /usr/local/lib/python3.11/dist-packages (from matplotlib) (4.59.0)\n",
            "Requirement already satisfied: kiwisolver>=1.3.1 in /usr/local/lib/python3.11/dist-packages (from matplotlib) (1.4.8)\n",
            "Requirement already satisfied: packaging>=20.0 in /usr/local/lib/python3.11/dist-packages (from matplotlib) (25.0)\n",
            "Requirement already satisfied: pillow>=8 in /usr/local/lib/python3.11/dist-packages (from matplotlib) (11.3.0)\n",
            "Requirement already satisfied: pyparsing>=2.3.1 in /usr/local/lib/python3.11/dist-packages (from matplotlib) (3.2.3)\n",
            "Requirement already satisfied: six>=1.5 in /usr/local/lib/python3.11/dist-packages (from python-dateutil>=2.8.2->pandas) (1.17.0)\n"
          ]
        }
      ],
      "source": [
        "!pip install pandas scikit-learn matplotlib seaborn\n"
      ]
    },
    {
      "cell_type": "markdown",
      "source": [
        "#loading of dataset\n"
      ],
      "metadata": {
        "id": "SJ3soXR0M3bJ"
      }
    },
    {
      "cell_type": "code",
      "source": [
        "import pandas as pd\n",
        "\n",
        "# Load CSV\n",
        "df = pd.read_csv('/content/drive/MyDrive/IDS/Train_Test_Windows_10.csv')\n",
        "\n",
        "# View basic info\n",
        "print(df.shape)\n",
        "print(df.columns)\n",
        "print(df.head())\n"
      ],
      "metadata": {
        "colab": {
          "base_uri": "https://localhost:8080/"
        },
        "id": "4RWeFvzUMoj-",
        "outputId": "15bf82a4-27f9-4295-8a4c-b9b39f0734a2"
      },
      "execution_count": 3,
      "outputs": [
        {
          "output_type": "stream",
          "name": "stdout",
          "text": [
            "(21104, 126)\n",
            "Index(['Processor_DPC_Rate', 'Processor_pct_ Idle_Time',\n",
            "       'Processor_pct_ C3_Time', 'Processor_pct_ Interrupt_Time',\n",
            "       'Processor_pct_ C2_Time', 'Processor_pct_ User_Time',\n",
            "       'Processor_pct_ C1_Time', 'Processor_pct_ Processor_Time',\n",
            "       'Processor_C1_ransitions_sec', 'Processor_pct_ DPC_Time',\n",
            "       ...\n",
            "       'LogicalDisk(_Total) Avg  Disk Write Queue Length',\n",
            "       'LogicalDisk(_Total) Avg  Disk Queue Length',\n",
            "       'LogicalDisk(_Total) pct_ Disk Read Time',\n",
            "       'LogicalDisk(_Total) Disk Write Bytes sec',\n",
            "       'LogicalDisk(_Total) Disk Transfers sec',\n",
            "       'LogicalDisk(_Total) Avg  Disk Bytes Transfer',\n",
            "       'LogicalDisk(_Total) pct_ Disk Write Time',\n",
            "       'LogicalDisk(_Total) Avg  Disk sec Transfer', 'label', 'type'],\n",
            "      dtype='object', length=126)\n",
            "   Processor_DPC_Rate Processor_pct_ Idle_Time Processor_pct_ C3_Time  \\\n",
            "0                   0              49.07244938                      0   \n",
            "1                  17                        0                      0   \n",
            "2                  11                        0                      0   \n",
            "3                   0                        0                      0   \n",
            "4                   0                        0                      0   \n",
            "\n",
            "  Processor_pct_ Interrupt_Time Processor_pct_ C2_Time  \\\n",
            "0                   0.779671928                      0   \n",
            "1                   1.170522789                      0   \n",
            "2                   0.546510062                      0   \n",
            "3                    0.78081667                      0   \n",
            "4                   0.468739969                      0   \n",
            "\n",
            "  Processor_pct_ User_Time Processor_pct_ C1_Time  \\\n",
            "0                21.830814            49.07244938   \n",
            "1              38.15904291                      0   \n",
            "2               65.1127703                      0   \n",
            "3              68.94611198                      0   \n",
            "4               66.0142123                      0   \n",
            "\n",
            "  Processor_pct_ Processor_Time Processor_C1_ransitions_sec  \\\n",
            "0                    45.5788994                 405.2109934   \n",
            "1                           100                           0   \n",
            "2                           100                           0   \n",
            "3                           100                           0   \n",
            "4                           100                           0   \n",
            "\n",
            "  Processor_pct_ DPC_Time  ...  \\\n",
            "0             0.155934386  ...   \n",
            "1              2.41908043  ...   \n",
            "2             0.312291464  ...   \n",
            "3             1.015061671  ...   \n",
            "4             0.156246656  ...   \n",
            "\n",
            "  LogicalDisk(_Total) Avg  Disk Write Queue Length  \\\n",
            "0                                      0.035543669   \n",
            "1                                      0.071868506   \n",
            "2                                      0.010271601   \n",
            "3                                      0.062088903   \n",
            "4                                      0.100304043   \n",
            "\n",
            "  LogicalDisk(_Total) Avg  Disk Queue Length  \\\n",
            "0                                0.035727836   \n",
            "1                                0.113428645   \n",
            "2                                0.023255341   \n",
            "3                                0.070302274   \n",
            "4                                0.123923448   \n",
            "\n",
            "  LogicalDisk(_Total) pct_ Disk Read Time  \\\n",
            "0                             0.006138575   \n",
            "1                              1.38968492   \n",
            "2                             0.432790999   \n",
            "3                             0.273779061   \n",
            "4                             0.787313151   \n",
            "\n",
            "  LogicalDisk(_Total) Disk Write Bytes sec  \\\n",
            "0                              980725.4671   \n",
            "1                              695437.4911   \n",
            "2                              691341.4197   \n",
            "3                              1039903.208   \n",
            "4                              2498188.869   \n",
            "\n",
            "  LogicalDisk(_Total) Disk Transfers sec  \\\n",
            "0                            61.12065428   \n",
            "1                            56.84042385   \n",
            "2                            9.388015072   \n",
            "3                            81.89439351   \n",
            "4                            190.1717481   \n",
            "\n",
            "   LogicalDisk(_Total) Avg  Disk Bytes Transfer  \\\n",
            "0                                   16125.91191   \n",
            "1                                    17923.5993   \n",
            "2                                    86462.6383   \n",
            "3                                   13206.97436   \n",
            "4                                   15214.36803   \n",
            "\n",
            "  LogicalDisk(_Total) pct_ Disk Write Time  \\\n",
            "0                              1.184788963   \n",
            "1                              2.403132421   \n",
            "2                              0.342387367   \n",
            "3                              2.069629418   \n",
            "4                               3.34346845   \n",
            "\n",
            "   LogicalDisk(_Total) Avg  Disk sec Transfer  label type  \n",
            "0                                 0.000584015      1  dos  \n",
            "1                                 0.001995776      1  dos  \n",
            "2                                 0.002475624      1  dos  \n",
            "3                                 0.000858868      1  dos  \n",
            "4                                 0.000651557      1  dos  \n",
            "\n",
            "[5 rows x 126 columns]\n"
          ]
        }
      ]
    },
    {
      "cell_type": "markdown",
      "source": [
        "Preprocessing\n"
      ],
      "metadata": {
        "id": "PAGDnKPHNKoI"
      }
    },
    {
      "cell_type": "code",
      "source": [
        "import pandas as pd\n",
        "import numpy as np\n",
        "from sklearn.preprocessing import LabelEncoder, StandardScaler\n",
        "\n",
        "# === Step 1: Load the dataset ===\n",
        "dataset_path = '/content/drive/MyDrive/IDS/Train_Test_Windows_10.csv'  # Replace with actual path\n",
        "df = pd.read_csv(dataset_path)\n",
        "\n",
        "# === Step 2: Clean column names ===\n",
        "df.columns = df.columns.str.strip()\n",
        "\n",
        "# === Step 3: Detect the label column ===\n",
        "possible_label_columns = ['Label', 'label', 'Attack', 'attack', 'Class', 'class', 'Target', 'target']\n",
        "label_col = None\n",
        "for col in df.columns:\n",
        "    if col in possible_label_columns:\n",
        "        label_col = col\n",
        "        break\n",
        "\n",
        "if label_col is None:\n",
        "    raise ValueError(\"Label column not found. Rename or tell me its name.\")\n",
        "\n",
        "print(f\"✔️ Detected label column: {label_col}\")\n",
        "\n",
        "# === Step 4: Drop rows with missing or infinite values ===\n",
        "df.replace([np.inf, -np.inf], np.nan, inplace=True)\n",
        "df.dropna(inplace=True)\n",
        "\n",
        "# === Step 5: Encode the label column ===\n",
        "le = LabelEncoder()\n",
        "df[label_col] = le.fit_transform(df[label_col])\n",
        "\n",
        "# === Step 6: Separate features and labels ===\n",
        "X = df.drop(columns=[label_col])\n",
        "y = df[label_col]\n",
        "\n",
        "# === Step 7: Encode categorical features (if any) ===\n",
        "# Select non-numeric columns\n",
        "non_numeric_cols = X.select_dtypes(include=['object']).columns\n",
        "\n",
        "for col in non_numeric_cols:\n",
        "    X[col] = LabelEncoder().fit_transform(X[col].astype(str))\n",
        "\n",
        "# === Step 8: Normalize numerical features ===\n",
        "scaler = StandardScaler()\n",
        "X_scaled = scaler.fit_transform(X)\n",
        "\n",
        "# Now `X_scaled` is ready for ML models\n",
        "print(\"✅ Preprocessing complete. Ready for training!\")\n",
        "\n",
        "# Optional: Return as DataFrame\n",
        "X = pd.DataFrame(X_scaled, columns=X.columns)\n"
      ],
      "metadata": {
        "colab": {
          "base_uri": "https://localhost:8080/"
        },
        "id": "gJdOaGN_NNrP",
        "outputId": "9afadd61-51df-4ab4-f512-a87992f6ef6c"
      },
      "execution_count": 6,
      "outputs": [
        {
          "output_type": "stream",
          "name": "stdout",
          "text": [
            "✔️ Detected label column: label\n",
            "✅ Preprocessing complete. Ready for training!\n"
          ]
        }
      ]
    },
    {
      "cell_type": "code",
      "source": [],
      "metadata": {
        "id": "6McIbZ7pOhl5"
      },
      "execution_count": null,
      "outputs": []
    }
  ]
}